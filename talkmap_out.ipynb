{
 "cells": [
  {
   "cell_type": "markdown",
   "metadata": {},
   "source": [
    "# Leaflet cluster map of talk locations\n",
    "\n",
    "Assuming you are working in a Linux or Windows Subsystem for Linux environment, you may need to install some dependencies. Assuming a clean installation, the following will be needed:\n",
    "\n",
    "```bash\n",
    "sudo apt install jupyter\n",
    "sudo apt install python3-pip\n",
    "pip install python-frontmatter getorg --upgrade\n",
    "```\n",
    "\n",
    "After which you can run this from the `_talks/` directory, via:\n",
    "\n",
    "```bash\n",
    " jupyter nbconvert --to notebook --execute talkmap.ipynb --output talkmap_out.ipynb\n",
    "```\n",
    " \n",
    "The `_talks/` directory contains `.md` files of all your talks. This scrapes the location YAML field from each `.md` file, geolocates it with `geopy/Nominatim`, and uses the `getorg` library to output data, HTML, and Javascript for a standalone cluster map."
   ]
  },
  {
   "cell_type": "code",
   "execution_count": 1,
   "metadata": {
    "collapsed": false,
    "execution": {
     "iopub.execute_input": "2025-10-18T11:52:01.917059Z",
     "iopub.status.busy": "2025-10-18T11:52:01.916771Z",
     "iopub.status.idle": "2025-10-18T11:52:03.636545Z",
     "shell.execute_reply": "2025-10-18T11:52:03.635617Z"
    }
   },
   "outputs": [
    {
     "name": "stdout",
     "output_type": "stream",
     "text": [
      "Collecting python-frontmatter\r\n"
     ]
    },
    {
     "name": "stdout",
     "output_type": "stream",
     "text": [
      "  Downloading python_frontmatter-1.1.0-py3-none-any.whl.metadata (4.1 kB)\r\n",
      "Requirement already satisfied: getorg in /opt/hostedtoolcache/Python/3.9.24/x64/lib/python3.9/site-packages (0.3.1)\r\n",
      "Requirement already satisfied: PyYAML in /opt/hostedtoolcache/Python/3.9.24/x64/lib/python3.9/site-packages (from python-frontmatter) (6.0.3)\r\n",
      "Requirement already satisfied: geopy in /opt/hostedtoolcache/Python/3.9.24/x64/lib/python3.9/site-packages (from getorg) (2.4.1)\r\n",
      "Requirement already satisfied: pygithub in /opt/hostedtoolcache/Python/3.9.24/x64/lib/python3.9/site-packages (from getorg) (2.8.1)\r\n",
      "Requirement already satisfied: retrying in /opt/hostedtoolcache/Python/3.9.24/x64/lib/python3.9/site-packages (from getorg) (1.4.2)\r\n"
     ]
    },
    {
     "name": "stdout",
     "output_type": "stream",
     "text": [
      "Requirement already satisfied: geographiclib<3,>=1.52 in /opt/hostedtoolcache/Python/3.9.24/x64/lib/python3.9/site-packages (from geopy->getorg) (2.1)\r\n",
      "Requirement already satisfied: pynacl>=1.4.0 in /opt/hostedtoolcache/Python/3.9.24/x64/lib/python3.9/site-packages (from pygithub->getorg) (1.6.0)\r\n",
      "Requirement already satisfied: requests>=2.14.0 in /opt/hostedtoolcache/Python/3.9.24/x64/lib/python3.9/site-packages (from pygithub->getorg) (2.32.5)\r\n",
      "Requirement already satisfied: pyjwt>=2.4.0 in /opt/hostedtoolcache/Python/3.9.24/x64/lib/python3.9/site-packages (from pyjwt[crypto]>=2.4.0->pygithub->getorg) (2.10.1)\r\n",
      "Requirement already satisfied: typing-extensions>=4.5.0 in /opt/hostedtoolcache/Python/3.9.24/x64/lib/python3.9/site-packages (from pygithub->getorg) (4.15.0)\r\n",
      "Requirement already satisfied: urllib3>=1.26.0 in /opt/hostedtoolcache/Python/3.9.24/x64/lib/python3.9/site-packages (from pygithub->getorg) (2.5.0)\r\n",
      "Requirement already satisfied: cryptography>=3.4.0 in /opt/hostedtoolcache/Python/3.9.24/x64/lib/python3.9/site-packages (from pyjwt[crypto]>=2.4.0->pygithub->getorg) (46.0.3)\r\n",
      "Requirement already satisfied: cffi>=2.0.0 in /opt/hostedtoolcache/Python/3.9.24/x64/lib/python3.9/site-packages (from cryptography>=3.4.0->pyjwt[crypto]>=2.4.0->pygithub->getorg) (2.0.0)\r\n",
      "Requirement already satisfied: pycparser in /opt/hostedtoolcache/Python/3.9.24/x64/lib/python3.9/site-packages (from cffi>=2.0.0->cryptography>=3.4.0->pyjwt[crypto]>=2.4.0->pygithub->getorg) (2.23)\r\n",
      "Requirement already satisfied: charset_normalizer<4,>=2 in /opt/hostedtoolcache/Python/3.9.24/x64/lib/python3.9/site-packages (from requests>=2.14.0->pygithub->getorg) (3.4.4)\r\n",
      "Requirement already satisfied: idna<4,>=2.5 in /opt/hostedtoolcache/Python/3.9.24/x64/lib/python3.9/site-packages (from requests>=2.14.0->pygithub->getorg) (3.11)\r\n",
      "Requirement already satisfied: certifi>=2017.4.17 in /opt/hostedtoolcache/Python/3.9.24/x64/lib/python3.9/site-packages (from requests>=2.14.0->pygithub->getorg) (2025.10.5)\r\n"
     ]
    },
    {
     "name": "stdout",
     "output_type": "stream",
     "text": [
      "Downloading python_frontmatter-1.1.0-py3-none-any.whl (9.8 kB)\r\n"
     ]
    },
    {
     "name": "stdout",
     "output_type": "stream",
     "text": [
      "Installing collected packages: python-frontmatter\r\n"
     ]
    },
    {
     "name": "stdout",
     "output_type": "stream",
     "text": [
      "Successfully installed python-frontmatter-1.1.0\r\n"
     ]
    },
    {
     "name": "stdout",
     "output_type": "stream",
     "text": [
      "Iywidgets and ipyleaflet support disabled. You must be in a Jupyter notebook to use this feature.\n",
      "Error raised:\n",
      "No module named 'ipyleaflet'\n",
      "Check that you have enabled ipyleaflet in Jupyter with:\n",
      "    jupyter nbextension enable --py ipyleaflet\n"
     ]
    }
   ],
   "source": [
    "# Start by installing the dependencies\n",
    "!pip install python-frontmatter getorg --upgrade\n",
    "import frontmatter\n",
    "import glob\n",
    "import getorg\n",
    "from geopy import Nominatim\n",
    "from geopy.exc import GeocoderTimedOut"
   ]
  },
  {
   "cell_type": "code",
   "execution_count": 2,
   "metadata": {
    "collapsed": false,
    "execution": {
     "iopub.execute_input": "2025-10-18T11:52:03.639037Z",
     "iopub.status.busy": "2025-10-18T11:52:03.638775Z",
     "iopub.status.idle": "2025-10-18T11:52:03.642693Z",
     "shell.execute_reply": "2025-10-18T11:52:03.641973Z"
    }
   },
   "outputs": [],
   "source": [
    "# Collect the Markdown files\n",
    "g = glob.glob(\"_talks/*.md\")"
   ]
  },
  {
   "cell_type": "code",
   "execution_count": 3,
   "metadata": {
    "collapsed": true,
    "execution": {
     "iopub.execute_input": "2025-10-18T11:52:03.644713Z",
     "iopub.status.busy": "2025-10-18T11:52:03.644513Z",
     "iopub.status.idle": "2025-10-18T11:52:03.671490Z",
     "shell.execute_reply": "2025-10-18T11:52:03.670788Z"
    }
   },
   "outputs": [],
   "source": [
    "# Set the default timeout, in seconds\n",
    "TIMEOUT = 5\n",
    "\n",
    "# Prepare to geolocate\n",
    "geocoder = Nominatim(user_agent=\"academicpages.github.io\")\n",
    "location_dict = {}\n",
    "location = \"\"\n",
    "permalink = \"\"\n",
    "title = \"\""
   ]
  },
  {
   "cell_type": "markdown",
   "metadata": {},
   "source": [
    "In the event that this times out with an error, double check to make sure that the location is can be properly geolocated."
   ]
  },
  {
   "cell_type": "code",
   "execution_count": 4,
   "metadata": {
    "collapsed": false,
    "execution": {
     "iopub.execute_input": "2025-10-18T11:52:03.673620Z",
     "iopub.status.busy": "2025-10-18T11:52:03.673420Z",
     "iopub.status.idle": "2025-10-18T11:52:29.302077Z",
     "shell.execute_reply": "2025-10-18T11:52:29.301319Z"
    }
   },
   "outputs": [
    {
     "name": "stdout",
     "output_type": "stream",
     "text": [
      "Invited Seminar<br />National Institute of Mental Health (NIH); Bethesda, MD, United States Bethesda, Montgomery County, Maryland, United States\n"
     ]
    },
    {
     "name": "stdout",
     "output_type": "stream",
     "text": [
      "Gatsby Tri‑Center Annual Meeting<br />ELSC, Hebrew University of Jerusalem; Jerusalem, Israel ירושלים, נפת ירושלים, מחוז ירושלים, ישראל\n"
     ]
    },
    {
     "name": "stdout",
     "output_type": "stream",
     "text": [
      "Seminar<br />Columbia University — Center for Theoretical Neuroscience; New York, NY, United States City of New York, New York, United States\n"
     ]
    },
    {
     "name": "stdout",
     "output_type": "stream",
     "text": [
      "Seminar<br />Imperial College London; London, United Kingdom London, Greater London, England, United Kingdom\n"
     ]
    },
    {
     "name": "stdout",
     "output_type": "stream",
     "text": [
      "Seminar<br />University of Geneva — Department of Basic Neurosciences; Geneva, Switzerland Genève, Schweiz/Suisse/Svizzera/Svizra\n"
     ]
    },
    {
     "name": "stdout",
     "output_type": "stream",
     "text": [
      "Workshop 'Computational Aspects and Modeling of Biological Information'<br />Bocconi University; Milan, Italy Milano, Lombardia, Italia\n"
     ]
    },
    {
     "name": "stdout",
     "output_type": "stream",
     "text": [
      "Seminar<br />École Normale Supérieure (ENS) — Department of Physics; Paris, France Paris, Île-de-France, France métropolitaine, France\n"
     ]
    },
    {
     "name": "stdout",
     "output_type": "stream",
     "text": [
      "Seminar<br />SISSA; Trieste, Italy Trieste, Friuli-Venezia Giulia, 34121-34151, Italia\n"
     ]
    },
    {
     "name": "stdout",
     "output_type": "stream",
     "text": [
      "Workshop 'Information processing through correlated and coordinated responses'<br />Bernstein Conference; Berlin, Germany Berlin, Deutschland\n"
     ]
    },
    {
     "name": "stdout",
     "output_type": "stream",
     "text": [
      "Seminar<br />Bocconi University — Department of Decision Sciences; Milan, Italy Milano, Lombardia, Italia\n"
     ]
    },
    {
     "name": "stdout",
     "output_type": "stream",
     "text": [
      "Workshop 'Multi-Scale Brain Function and Neuro‑inspired devices'<br />Università degli Studi di Milano; Milan, Italy Milano, Lombardia, Italia\n"
     ]
    },
    {
     "name": "stdout",
     "output_type": "stream",
     "text": [
      "Seminar<br />Institute for Advanced Study (IAS); Princeton, NJ, United States Princeton, Mercer County, New Jersey, United States\n"
     ]
    },
    {
     "name": "stdout",
     "output_type": "stream",
     "text": [
      "Workshop 'The structure‑function binomial of cortical circuits across multiple scales'<br />CNS 2024; Natal, Brazil Natal, Região Geográfica Imediata de Natal, Região Geográfica Intermediária de Natal, Rio Grande do Norte, Região Nordeste, Brasil\n"
     ]
    },
    {
     "name": "stdout",
     "output_type": "stream",
     "text": [
      "van Vreeswijk Theoretical Neuroscience Seminar<br />Online; Online Online, Croix d'Argent, Montpellier, Hérault, Occitanie, France métropolitaine, France\n"
     ]
    },
    {
     "name": "stdout",
     "output_type": "stream",
     "text": [
      "Statphys Satellite Workshop 'Dynamics and Complexity'<br />CNR Research Area; Pisa, Italy Pisa, Toscana, Italia\n"
     ]
    },
    {
     "name": "stdout",
     "output_type": "stream",
     "text": [
      "Seminar<br />National Institute of Mental Health (NIH); Bethesda, MD, United States Bethesda, Montgomery County, Maryland, United States\n"
     ]
    },
    {
     "name": "stdout",
     "output_type": "stream",
     "text": [
      "Seminar<br />Columbia University — Center for Theoretical Neuroscience; New York, NY, United States City of New York, New York, United States\n"
     ]
    },
    {
     "name": "stdout",
     "output_type": "stream",
     "text": [
      "Tutorial 'Modeling cortical networks dynamics'<br />CNS 2024; Natal, Brazil Natal, Região Geográfica Imediata de Natal, Região Geográfica Intermediária de Natal, Rio Grande do Norte, Região Nordeste, Brasil\n"
     ]
    },
    {
     "name": "stdout",
     "output_type": "stream",
     "text": [
      "Junior Scientists Workshop on Recent Advances in Theoretical Neuroscience<br />ICTP; Trieste, Italy Trieste, Friuli-Venezia Giulia, 34121-34151, Italia\n"
     ]
    },
    {
     "name": "stdout",
     "output_type": "stream",
     "text": [
      "Seminar<br />University of Chicago; Chicago, IL, United States Chicago, Cook County, Illinois, United States\n"
     ]
    },
    {
     "name": "stdout",
     "output_type": "stream",
     "text": [
      "Seminar<br />Gatsby Computational Neuroscience Unit, UCL; London, United Kingdom London, Greater London, England, United Kingdom\n"
     ]
    },
    {
     "name": "stdout",
     "output_type": "stream",
     "text": [
      "First Conference of the Italian Network for Computational Neuroscience (INCN)<br />Istituto Superiore di Sanità (ISS); Rome, Italy Roma, Roma Capitale, Lazio, Italia\n"
     ]
    },
    {
     "name": "stdout",
     "output_type": "stream",
     "text": [
      "Seminar<br />LMU Biocenter; Munich, Germany München, Bayern, Deutschland\n"
     ]
    },
    {
     "name": "stdout",
     "output_type": "stream",
     "text": [
      "Statphys Satellite Workshop 'Perspectives in Nonlinear Dynamics'<br />IMT School for Advanced Studies; Lucca, Italy Lucca, Toscana, Italia\n"
     ]
    },
    {
     "name": "stdout",
     "output_type": "stream",
     "text": [
      "Conference 'Analysis and Modeling of Connectomes'<br />Janelia Research Campus; Ashburn, VA, United States Ashburn, Loudoun County, Virginia, United States\n"
     ]
    },
    {
     "name": "stdout",
     "output_type": "stream",
     "text": [
      "Seminar<br />Emory University; Atlanta, GA, United States Atlanta, Fulton County, Georgia, United States\n"
     ]
    }
   ],
   "source": [
    "# Perform geolocation\n",
    "for file in g:\n",
    "    # Read the file\n",
    "    data = frontmatter.load(file)\n",
    "    data = data.to_dict()\n",
    "\n",
    "    # Press on if the location is not present\n",
    "    if 'location' not in data:\n",
    "        continue\n",
    "\n",
    "    # Prepare the description\n",
    "    title = data['title'].strip()\n",
    "    venue = data['venue'].strip()\n",
    "    location = data['location'].strip()\n",
    "    description = f\"{title}<br />{venue}; {location}\"\n",
    "\n",
    "    # Geocode the location and report the status\n",
    "    try:\n",
    "        location_dict[description] = geocoder.geocode(location, timeout=TIMEOUT)\n",
    "        print(description, location_dict[description])\n",
    "    except ValueError as ex:\n",
    "        print(f\"Error: geocode failed on input {location} with message {ex}\")\n",
    "    except GeocoderTimedOut as ex:\n",
    "        print(f\"Error: geocode timed out on input {location} with message {ex}\")\n",
    "    except Exception as ex:\n",
    "        print(f\"An unhandled exception occurred while processing input {location} with message {ex}\")"
   ]
  },
  {
   "cell_type": "code",
   "execution_count": 5,
   "metadata": {
    "collapsed": false,
    "execution": {
     "iopub.execute_input": "2025-10-18T11:52:29.304330Z",
     "iopub.status.busy": "2025-10-18T11:52:29.304094Z",
     "iopub.status.idle": "2025-10-18T11:52:29.313676Z",
     "shell.execute_reply": "2025-10-18T11:52:29.312986Z"
    }
   },
   "outputs": [
    {
     "data": {
      "text/plain": [
       "'Written map to talkmap/'"
      ]
     },
     "execution_count": 5,
     "metadata": {},
     "output_type": "execute_result"
    }
   ],
   "source": [
    "# Save the map\n",
    "m = getorg.orgmap.create_map_obj()\n",
    "getorg.orgmap.output_html_cluster_map(location_dict, folder_name=\"talkmap\", hashed_usernames=False)"
   ]
  },
  {
   "cell_type": "code",
   "execution_count": null,
   "metadata": {
    "collapsed": true
   },
   "outputs": [],
   "source": []
  }
 ],
 "metadata": {
  "anaconda-cloud": {},
  "kernelspec": {
   "display_name": "base",
   "language": "python",
   "name": "python3"
  },
  "language_info": {
   "codemirror_mode": {
    "name": "ipython",
    "version": 3
   },
   "file_extension": ".py",
   "mimetype": "text/x-python",
   "name": "python",
   "nbconvert_exporter": "python",
   "pygments_lexer": "ipython3",
   "version": "3.9.24"
  }
 },
 "nbformat": 4,
 "nbformat_minor": 0
}
