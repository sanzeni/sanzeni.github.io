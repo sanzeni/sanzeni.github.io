{
 "cells": [
  {
   "cell_type": "markdown",
   "metadata": {},
   "source": [
    "# Leaflet cluster map of talk locations\n",
    "\n",
    "Assuming you are working in a Linux or Windows Subsystem for Linux environment, you may need to install some dependencies. Assuming a clean installation, the following will be needed:\n",
    "\n",
    "```bash\n",
    "sudo apt install jupyter\n",
    "sudo apt install python3-pip\n",
    "pip install python-frontmatter getorg --upgrade\n",
    "```\n",
    "\n",
    "After which you can run this from the `_talks/` directory, via:\n",
    "\n",
    "```bash\n",
    " jupyter nbconvert --to notebook --execute talkmap.ipynb --output talkmap_out.ipynb\n",
    "```\n",
    " \n",
    "The `_talks/` directory contains `.md` files of all your talks. This scrapes the location YAML field from each `.md` file, geolocates it with `geopy/Nominatim`, and uses the `getorg` library to output data, HTML, and Javascript for a standalone cluster map."
   ]
  },
  {
   "cell_type": "code",
   "execution_count": 2,
   "metadata": {
    "collapsed": false
   },
   "outputs": [
    {
     "name": "stdout",
     "output_type": "stream",
     "text": [
      "Collecting python-frontmatter\n",
      "  Downloading python_frontmatter-1.1.0-py3-none-any.whl.metadata (4.1 kB)\n",
      "Collecting getorg\n",
      "  Downloading getorg-0.3.1-py2.py3-none-any.whl.metadata (326 bytes)\n",
      "Requirement already satisfied: PyYAML in /Users/ale/opt/anaconda3/lib/python3.8/site-packages (from python-frontmatter) (5.4.1)\n",
      "Collecting geopy (from getorg)\n",
      "  Downloading geopy-2.4.1-py3-none-any.whl.metadata (6.8 kB)\n",
      "Collecting pygithub (from getorg)\n",
      "  Downloading pygithub-2.8.1-py3-none-any.whl.metadata (3.9 kB)\n",
      "Collecting retrying (from getorg)\n",
      "  Downloading retrying-1.4.2-py3-none-any.whl.metadata (5.5 kB)\n",
      "Collecting geographiclib<3,>=1.52 (from geopy->getorg)\n",
      "  Downloading geographiclib-2.1-py3-none-any.whl.metadata (1.6 kB)\n",
      "Collecting pynacl>=1.4.0 (from pygithub->getorg)\n",
      "  Downloading pynacl-1.6.0-cp38-abi3-macosx_10_10_universal2.whl.metadata (9.4 kB)\n",
      "Requirement already satisfied: requests>=2.14.0 in /Users/ale/opt/anaconda3/lib/python3.8/site-packages (from pygithub->getorg) (2.25.1)\n",
      "Collecting pyjwt>=2.4.0 (from pyjwt[crypto]>=2.4.0->pygithub->getorg)\n",
      "  Downloading PyJWT-2.9.0-py3-none-any.whl.metadata (3.0 kB)\n",
      "Requirement already satisfied: typing-extensions>=4.5.0 in /Users/ale/opt/anaconda3/lib/python3.8/site-packages (from pygithub->getorg) (4.12.0)\n",
      "Requirement already satisfied: urllib3>=1.26.0 in /Users/ale/opt/anaconda3/lib/python3.8/site-packages (from pygithub->getorg) (1.26.4)\n",
      "Collecting cryptography>=3.4.0 (from pyjwt[crypto]>=2.4.0->pygithub->getorg)\n",
      "  Downloading cryptography-46.0.1-cp38-abi3-macosx_10_9_universal2.whl.metadata (5.7 kB)\n",
      "Requirement already satisfied: cffi>=1.4.1 in /Users/ale/opt/anaconda3/lib/python3.8/site-packages (from pynacl>=1.4.0->pygithub->getorg) (1.14.5)\n",
      "Requirement already satisfied: chardet<5,>=3.0.2 in /Users/ale/opt/anaconda3/lib/python3.8/site-packages (from requests>=2.14.0->pygithub->getorg) (4.0.0)\n",
      "Requirement already satisfied: idna<3,>=2.5 in /Users/ale/opt/anaconda3/lib/python3.8/site-packages (from requests>=2.14.0->pygithub->getorg) (2.10)\n",
      "Requirement already satisfied: certifi>=2017.4.17 in /Users/ale/opt/anaconda3/lib/python3.8/site-packages (from requests>=2.14.0->pygithub->getorg) (2020.12.5)\n",
      "Requirement already satisfied: pycparser in /Users/ale/opt/anaconda3/lib/python3.8/site-packages (from cffi>=1.4.1->pynacl>=1.4.0->pygithub->getorg) (2.20)\n",
      "Collecting typing-extensions>=4.5.0 (from pygithub->getorg)\n",
      "  Downloading typing_extensions-4.13.2-py3-none-any.whl.metadata (3.0 kB)\n",
      "Downloading python_frontmatter-1.1.0-py3-none-any.whl (9.8 kB)\n",
      "Downloading getorg-0.3.1-py2.py3-none-any.whl (39 kB)\n",
      "Downloading geopy-2.4.1-py3-none-any.whl (125 kB)\n",
      "\u001b[2K   \u001b[90m━━━━━━━━━━━━━━━━━━━━━━━━━━━━━━━━━━━━━━━━\u001b[0m \u001b[32m125.4/125.4 kB\u001b[0m \u001b[31m1.8 MB/s\u001b[0m eta \u001b[36m0:00:00\u001b[0m \u001b[36m0:00:01\u001b[0m\n",
      "\u001b[?25hDownloading pygithub-2.8.1-py3-none-any.whl (432 kB)\n",
      "\u001b[2K   \u001b[90m━━━━━━━━━━━━━━━━━━━━━━━━━━━━━━━━━━━━━━━━\u001b[0m \u001b[32m432.7/432.7 kB\u001b[0m \u001b[31m5.0 MB/s\u001b[0m eta \u001b[36m0:00:00\u001b[0m00:01\u001b[0m:00:01\u001b[0m\n",
      "\u001b[?25hDownloading retrying-1.4.2-py3-none-any.whl (10 kB)\n",
      "Downloading geographiclib-2.1-py3-none-any.whl (40 kB)\n",
      "\u001b[2K   \u001b[90m━━━━━━━━━━━━━━━━━━━━━━━━━━━━━━━━━━━━━━━━\u001b[0m \u001b[32m40.7/40.7 kB\u001b[0m \u001b[31m1.1 MB/s\u001b[0m eta \u001b[36m0:00:00\u001b[0m\n",
      "\u001b[?25hDownloading PyJWT-2.9.0-py3-none-any.whl (22 kB)\n",
      "Downloading pynacl-1.6.0-cp38-abi3-macosx_10_10_universal2.whl (382 kB)\n",
      "\u001b[2K   \u001b[90m━━━━━━━━━━━━━━━━━━━━━━━━━━━━━━━━━━━━━━━━\u001b[0m \u001b[32m382.6/382.6 kB\u001b[0m \u001b[31m11.6 MB/s\u001b[0m eta \u001b[36m0:00:00\u001b[0m\n",
      "\u001b[?25hDownloading cryptography-46.0.1-cp38-abi3-macosx_10_9_universal2.whl (7.3 MB)\n",
      "\u001b[2K   \u001b[90m━━━━━━━━━━━━━━━━━━━━━━━━━━━━━━━━━━━━━━━━\u001b[0m \u001b[32m7.3/7.3 MB\u001b[0m \u001b[31m18.5 MB/s\u001b[0m eta \u001b[36m0:00:00\u001b[0m00:01\u001b[0m00:01\u001b[0m\n",
      "\u001b[?25hDownloading typing_extensions-4.13.2-py3-none-any.whl (45 kB)\n",
      "\u001b[2K   \u001b[90m━━━━━━━━━━━━━━━━━━━━━━━━━━━━━━━━━━━━━━━━\u001b[0m \u001b[32m45.8/45.8 kB\u001b[0m \u001b[31m1.1 MB/s\u001b[0m eta \u001b[36m0:00:00\u001b[0m\n",
      "\u001b[?25hInstalling collected packages: typing-extensions, retrying, python-frontmatter, pyjwt, geographiclib, pynacl, geopy, cryptography, pygithub, getorg\n",
      "  Attempting uninstall: typing-extensions\n",
      "    Found existing installation: typing_extensions 4.12.0\n",
      "    Uninstalling typing_extensions-4.12.0:\n",
      "      Successfully uninstalled typing_extensions-4.12.0\n",
      "  Attempting uninstall: cryptography\n",
      "    Found existing installation: cryptography 3.3.2\n",
      "    Uninstalling cryptography-3.3.2:\n",
      "      Successfully uninstalled cryptography-3.3.2\n",
      "\u001b[31mERROR: pip's dependency resolver does not currently take into account all the packages that are installed. This behaviour is the source of the following dependency conflicts.\n",
      "otumat 0.2.0 requires cryptography<=3.3.2, but you have cryptography 46.0.1 which is incompatible.\u001b[0m\u001b[31m\n",
      "\u001b[0mSuccessfully installed cryptography-46.0.1 geographiclib-2.1 geopy-2.4.1 getorg-0.3.1 pygithub-2.8.1 pyjwt-2.9.0 pynacl-1.6.0 python-frontmatter-1.1.0 retrying-1.4.2 typing-extensions-4.13.2\n",
      "\n",
      "\u001b[1m[\u001b[0m\u001b[34;49mnotice\u001b[0m\u001b[1;39;49m]\u001b[0m\u001b[39;49m A new release of pip is available: \u001b[0m\u001b[31;49m24.0\u001b[0m\u001b[39;49m -> \u001b[0m\u001b[32;49m25.0.1\u001b[0m\n",
      "\u001b[1m[\u001b[0m\u001b[34;49mnotice\u001b[0m\u001b[1;39;49m]\u001b[0m\u001b[39;49m To update, run: \u001b[0m\u001b[32;49mpip install --upgrade pip\u001b[0m\n",
      "Iywidgets and ipyleaflet support disabled. You must be in a Jupyter notebook to use this feature.\n",
      "Error raised:\n",
      "No module named 'ipyleaflet'\n",
      "Check that you have enabled ipyleaflet in Jupyter with:\n",
      "    jupyter nbextension enable --py ipyleaflet\n"
     ]
    }
   ],
   "source": [
    "# Start by installing the dependencies\n",
    "!pip install python-frontmatter getorg --upgrade\n",
    "import frontmatter\n",
    "import glob\n",
    "import getorg\n",
    "from geopy import Nominatim\n",
    "from geopy.exc import GeocoderTimedOut"
   ]
  },
  {
   "cell_type": "code",
   "execution_count": 4,
   "metadata": {
    "collapsed": false
   },
   "outputs": [],
   "source": [
    "# Collect the Markdown files\n",
    "g = glob.glob(\"_talks/*.md\")"
   ]
  },
  {
   "cell_type": "code",
   "execution_count": 5,
   "metadata": {
    "collapsed": true
   },
   "outputs": [],
   "source": [
    "# Set the default timeout, in seconds\n",
    "TIMEOUT = 5\n",
    "\n",
    "# Prepare to geolocate\n",
    "geocoder = Nominatim(user_agent=\"academicpages.github.io\")\n",
    "location_dict = {}\n",
    "location = \"\"\n",
    "permalink = \"\"\n",
    "title = \"\""
   ]
  },
  {
   "cell_type": "markdown",
   "metadata": {},
   "source": [
    "In the event that this times out with an error, double check to make sure that the location is can be properly geolocated."
   ]
  },
  {
   "cell_type": "code",
   "execution_count": 6,
   "metadata": {
    "collapsed": false
   },
   "outputs": [
    {
     "name": "stdout",
     "output_type": "stream",
     "text": [
      "Seminar<br />Columbia University — Center for Theoretical Neuroscience; New York, NY, United States City of New York, New York, United States\n",
      "Conference 'Analysis and Modeling of Connectomes'<br />Janelia Research Campus; Ashburn, VA, United States Ashburn, Loudoun County, Virginia, United States\n",
      "Seminar<br />University of Geneva — Department of Basic Neurosciences; Geneva, Switzerland Genève, Schweiz/Suisse/Svizzera/Svizra\n",
      "First Conference of the Italian Network for Computational Neuroscience (INCN)<br />Istituto Superiore di Sanità (ISS); Rome, Italy Roma, Roma Capitale, Lazio, Italia\n",
      "Seminar<br />Bocconi University — Department of Decision Sciences; Milan, Italy Milano, Lombardia, Italia\n",
      "Workshop 'Computational Aspects and Modeling of Biological Information'<br />Bocconi University; Milan, Italy Milano, Lombardia, Italia\n",
      "Tutorial 'Modeling cortical networks dynamics'<br />CNS 2024; Natal, Brazil Natal, Região Geográfica Imediata de Natal, Região Geográfica Intermediária de Natal, Rio Grande do Norte, Região Nordeste, Brasil\n",
      "Junior Scientists Workshop on Recent Advances in Theoretical Neuroscience<br />ICTP; Trieste, Italy Trieste, Friuli-Venezia Giulia, 34121-34151, Italia\n",
      "Statphys Satellite Workshop 'Dynamics and Complexity'<br />CNR Research Area; Pisa, Italy Pisa, Toscana, Italia\n",
      "Seminar<br />SISSA; Trieste, Italy Trieste, Friuli-Venezia Giulia, 34121-34151, Italia\n",
      "Seminar<br />National Institute of Mental Health (NIH); Bethesda, MD, United States Bethesda, Montgomery County, Maryland, United States\n",
      "Workshop 'Information processing through correlated and coordinated responses'<br />Bernstein Conference; Berlin, Germany Berlin, Deutschland\n",
      "Seminar<br />Columbia University — Center for Theoretical Neuroscience; New York, NY, United States City of New York, New York, United States\n",
      "Statphys Satellite Workshop 'Perspectives in Nonlinear Dynamics'<br />IMT School for Advanced Studies; Lucca, Italy Lucca, Toscana, Italia\n",
      "Seminar<br />Imperial College London; London, United Kingdom London, Greater London, England, United Kingdom\n",
      "Seminar<br />École Normale Supérieure (ENS) — Department of Physics; Paris, France Paris, Île-de-France, France métropolitaine, France\n",
      "Seminar<br />University of Chicago; Chicago, IL, United States Chicago, Cook County, Illinois, United States\n",
      "Workshop 'Multi-Scale Brain Function and Neuro‑inspired devices'<br />Università degli Studi di Milano; Milan, Italy Milano, Lombardia, Italia\n",
      "van Vreeswijk Theoretical Neuroscience Seminar<br />Online; Online Online, Croix d'Argent, Montpellier, Hérault, Occitanie, France métropolitaine, France\n",
      "Seminar<br />Institute for Advanced Study (IAS); Princeton, NJ, United States Princeton, Mercer County, New Jersey, United States\n",
      "Workshop 'The structure‑function binomial of cortical circuits across multiple scales'<br />CNS 2024; Natal, Brazil Natal, Região Geográfica Imediata de Natal, Região Geográfica Intermediária de Natal, Rio Grande do Norte, Região Nordeste, Brasil\n",
      "Seminar<br />LMU Biocenter; Munich, Germany München, Bayern, Deutschland\n",
      "Seminar<br />Emory University; Atlanta, GA, United States Atlanta, Fulton County, Georgia, United States\n",
      "Invited Seminar<br />National Institute of Mental Health (NIH); Bethesda, MD, United States Bethesda, Montgomery County, Maryland, United States\n",
      "Seminar<br />Gatsby Computational Neuroscience Unit, UCL; London, United Kingdom London, Greater London, England, United Kingdom\n",
      "Gatsby Tri‑Center Annual Meeting<br />ELSC, Hebrew University of Jerusalem; Jerusalem, Israel ירושלים | القدس, נפת ירושלים, מחוז ירושלים, ישראל\n"
     ]
    }
   ],
   "source": [
    "# Perform geolocation\n",
    "for file in g:\n",
    "    # Read the file\n",
    "    data = frontmatter.load(file)\n",
    "    data = data.to_dict()\n",
    "\n",
    "    # Press on if the location is not present\n",
    "    if 'location' not in data:\n",
    "        continue\n",
    "\n",
    "    # Prepare the description\n",
    "    title = data['title'].strip()\n",
    "    venue = data['venue'].strip()\n",
    "    location = data['location'].strip()\n",
    "    description = f\"{title}<br />{venue}; {location}\"\n",
    "\n",
    "    # Geocode the location and report the status\n",
    "    try:\n",
    "        location_dict[description] = geocoder.geocode(location, timeout=TIMEOUT)\n",
    "        print(description, location_dict[description])\n",
    "    except ValueError as ex:\n",
    "        print(f\"Error: geocode failed on input {location} with message {ex}\")\n",
    "    except GeocoderTimedOut as ex:\n",
    "        print(f\"Error: geocode timed out on input {location} with message {ex}\")\n",
    "    except Exception as ex:\n",
    "        print(f\"An unhandled exception occurred while processing input {location} with message {ex}\")"
   ]
  },
  {
   "cell_type": "code",
   "execution_count": 7,
   "metadata": {
    "collapsed": false
   },
   "outputs": [
    {
     "data": {
      "text/plain": [
       "'Written map to talkmap/'"
      ]
     },
     "execution_count": 7,
     "metadata": {},
     "output_type": "execute_result"
    }
   ],
   "source": [
    "# Save the map\n",
    "m = getorg.orgmap.create_map_obj()\n",
    "getorg.orgmap.output_html_cluster_map(location_dict, folder_name=\"talkmap\", hashed_usernames=False)"
   ]
  },
  {
   "cell_type": "code",
   "execution_count": null,
   "metadata": {
    "collapsed": true
   },
   "outputs": [],
   "source": []
  }
 ],
 "metadata": {
  "anaconda-cloud": {},
  "kernelspec": {
   "display_name": "base",
   "language": "python",
   "name": "python3"
  },
  "language_info": {
   "codemirror_mode": {
    "name": "ipython",
    "version": 3
   },
   "file_extension": ".py",
   "mimetype": "text/x-python",
   "name": "python",
   "nbconvert_exporter": "python",
   "pygments_lexer": "ipython3",
   "version": "3.8.8"
  }
 },
 "nbformat": 4,
 "nbformat_minor": 0
}
